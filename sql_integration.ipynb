{
 "cells": [
  {
   "cell_type": "code",
   "execution_count": 5,
   "metadata": {},
   "outputs": [],
   "source": [
    "#!pip install psycopg2\n",
    "#!pip install psycopg2-binary\n",
    "cur.execute('drop table signup_page')"
   ]
  },
  {
   "cell_type": "code",
   "execution_count": 1,
   "metadata": {},
   "outputs": [
    {
     "name": "stdout",
     "output_type": "stream",
     "text": [
      "<connection object at 0x000001A81B0F6BD0; dsn: 'user=postgres password=xxx dbname=webappdb host=localhost port=5432', closed: 0>\n"
     ]
    }
   ],
   "source": [
    "# importing psycopg2 module and creating a connection string.\n",
    "import psycopg2\n",
    "conn=psycopg2.connect(user=\"postgres\",\n",
    "                      host=\"localhost\",\n",
    "                      password=\"root11\",\n",
    "                      port=5432,\n",
    "                      database=\"webappdb\")\n",
    "\n",
    "print(conn) # checking if connection is success or not\n",
    "cur=conn.cursor() # creating a cursor object.\n"
   ]
  },
  {
   "cell_type": "code",
   "execution_count": null,
   "metadata": {},
   "outputs": [],
   "source": []
  },
  {
   "cell_type": "code",
   "execution_count": 2,
   "metadata": {},
   "outputs": [
    {
     "name": "stdout",
     "output_type": "stream",
     "text": [
      "('PostgreSQL 16.1, compiled by Visual C++ build 1937, 64-bit',)\n"
     ]
    }
   ],
   "source": [
    "cur.execute('SELECT version()') # if connectes printing client version\n",
    "is_conn=cur.fetchone()\n",
    "print(is_conn)"
   ]
  },
  {
   "cell_type": "code",
   "execution_count": null,
   "metadata": {},
   "outputs": [],
   "source": []
  },
  {
   "cell_type": "code",
   "execution_count": 3,
   "metadata": {},
   "outputs": [],
   "source": [
    "# creating a table in the database\n",
    "\n",
    "cur.execute(\"\"\"\n",
    "    CREATE TABLE if not exists signup_page (\n",
    "        first_name VARCHAR(50),\n",
    "        last_name VARCHAR(50),\n",
    "        user_name VARCHAR(50),\n",
    "        password VARCHAR(25)\n",
    "    );\n",
    "\"\"\")\n",
    "conn.commit()"
   ]
  },
  {
   "cell_type": "code",
   "execution_count": 6,
   "metadata": {},
   "outputs": [],
   "source": [
    "cur.execute(\"truncate table signup_page;\")"
   ]
  },
  {
   "cell_type": "code",
   "execution_count": 10,
   "metadata": {},
   "outputs": [
    {
     "name": "stdout",
     "output_type": "stream",
     "text": [
      "('Manoj', 'Tripathi', 'm01', 'manoj01')\n"
     ]
    }
   ],
   "source": [
    "cur.execute(\"select * from signup_page;\")\n",
    "conn.commit()\n",
    "for i in cur.fetchall():\n",
    "    print(i)"
   ]
  },
  {
   "cell_type": "code",
   "execution_count": 9,
   "metadata": {},
   "outputs": [
    {
     "name": "stdout",
     "output_type": "stream",
     "text": [
      "('Manoj', 'Tripathi', 'm01', 'manoj01')\n"
     ]
    }
   ],
   "source": [
    "# inserting a single record\n",
    "\n",
    "cur.execute(\"\"\"INSERT INTO signup_page (first_name,last_name,user_name,password) values\n",
    "             ('Manoj','Tripathi','m01','manoj01');\"\"\")\n",
    "\n",
    "conn.commit()\n",
    "\n",
    "cur.execute(\"select * from signup_page;\")\n",
    "print(cur.fetchone())"
   ]
  },
  {
   "cell_type": "code",
   "execution_count": 11,
   "metadata": {},
   "outputs": [
    {
     "name": "stdout",
     "output_type": "stream",
     "text": [
      "('Manoj', 'Tripathi', 'm01', 'manoj01')\n",
      "('anshu', 'joshi', 'a01', 'anshu01')\n",
      "('tannu', 'joshi', 't01', 'tannu01')\n"
     ]
    }
   ],
   "source": [
    "# -- inset multiple records manually\n",
    "\n",
    "cur.execute(\"\"\"INSERT INTO signup_page (first_name,last_name,user_name,password) values\n",
    "            ('anshu','joshi','a01','anshu01'),\n",
    "            ('tannu','joshi','t01','tannu01');\n",
    "\"\"\")\n",
    "\n",
    "conn.commit() # it will commit the changes.\n",
    "\n",
    "cur.execute(\"select * from signup_page;\") # getting all the records in cur\n",
    "\n",
    "for i in cur.fetchall(): # looping over cur to get all data\n",
    "    print(i)"
   ]
  },
  {
   "cell_type": "code",
   "execution_count": null,
   "metadata": {},
   "outputs": [],
   "source": []
  },
  {
   "cell_type": "code",
   "execution_count": 13,
   "metadata": {},
   "outputs": [
    {
     "name": "stdout",
     "output_type": "stream",
     "text": [
      "Please enter your 1th record :\n",
      "1th record inserted successfully\n",
      "Please enter your 2th record :\n",
      "2th record inserted successfully\n"
     ]
    }
   ],
   "source": [
    "# -- inserting records by user input\n",
    "\n",
    "n_records=int(input(\"How many reocrds ? \")) # how many records\n",
    "\n",
    "for i in range(n_records):  # loop n_records times\n",
    "    print(f\"Please enter your {i+1}th record :\")  # printing iteration no\n",
    "\n",
    "    first_name=input(\"Enter first name :\") # taking user input\n",
    "    last_name=input(\"Enter last name: \")\n",
    "    user_name=input(\"Enter user name : \")\n",
    "    password=input(\"Enter password: \")\n",
    "\n",
    "    # making a querry sting so, that it will store input values.\n",
    "    querry=\"\"\"INSERT INTO signup_page (first_name,last_name,user_name,password) \n",
    "    values(%s,%s,%s,%s);\n",
    "    \"\"\"\n",
    "    values=(first_name,last_name,user_name,password)\n",
    "\n",
    "    cur.execute(querry,values) # executing querry.\n",
    "    conn.commit() # commeting changes.\n",
    "\n",
    "    print(f\"{i+1}th record inserted successfully\")"
   ]
  },
  {
   "cell_type": "code",
   "execution_count": 14,
   "metadata": {},
   "outputs": [
    {
     "name": "stdout",
     "output_type": "stream",
     "text": [
      "('Manoj', 'Tripathi', 'm01', 'manoj01')\n",
      "('anshu', 'joshi', 'a01', 'anshu01')\n",
      "('tannu', 'joshi', 't01', 'tannu01')\n",
      "('rahul', 'joshi', 'r01', 'rahul01')\n",
      "('dev', 'bisht', 'd01', 'dev01')\n"
     ]
    }
   ],
   "source": [
    "# print multiple records\n",
    "\n",
    "cur.execute(\"select * from signup_page\")\n",
    "\n",
    "for i in cur.fetchall():\n",
    "    print(i)"
   ]
  },
  {
   "cell_type": "code",
   "execution_count": null,
   "metadata": {},
   "outputs": [],
   "source": []
  },
  {
   "cell_type": "code",
   "execution_count": 17,
   "metadata": {},
   "outputs": [
    {
     "name": "stdout",
     "output_type": "stream",
     "text": [
      "Login successful. Welcome, tannu!\n"
     ]
    }
   ],
   "source": [
    "# -- login check\n",
    "\n",
    "l_user_name=input(\"Enter your username:\")\n",
    "l_password=input(\"Enter your password: \")\n",
    "\n",
    "login_query = \"SELECT first_name FROM signup_page WHERE user_name = %s AND password = %s;\"\n",
    "values = (l_user_name, l_password)\n",
    "\n",
    "cur.execute(login_query, values)\n",
    "result = cur.fetchone()\n",
    "\n",
    "if result:\n",
    "    print(f\"Login successful. Welcome, {result[0]}!\")\n",
    "else:\n",
    "    print(\"Invalid username or password. Please try again or Sign Up.\")"
   ]
  },
  {
   "cell_type": "code",
   "execution_count": null,
   "metadata": {},
   "outputs": [],
   "source": []
  }
 ],
 "metadata": {
  "kernelspec": {
   "display_name": "base",
   "language": "python",
   "name": "python3"
  },
  "language_info": {
   "codemirror_mode": {
    "name": "ipython",
    "version": 3
   },
   "file_extension": ".py",
   "mimetype": "text/x-python",
   "name": "python",
   "nbconvert_exporter": "python",
   "pygments_lexer": "ipython3",
   "version": "3.11.5"
  }
 },
 "nbformat": 4,
 "nbformat_minor": 2
}
